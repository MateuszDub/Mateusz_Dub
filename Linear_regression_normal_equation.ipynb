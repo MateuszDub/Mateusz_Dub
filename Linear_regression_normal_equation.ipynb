{
 "cells": [
  {
   "cell_type": "markdown",
   "metadata": {},
   "source": [
    "# Import Libraries"
   ]
  },
  {
   "cell_type": "code",
   "execution_count": 1,
   "metadata": {},
   "outputs": [],
   "source": [
    "import numpy as np"
   ]
  },
  {
   "cell_type": "code",
   "execution_count": 2,
   "metadata": {},
   "outputs": [
    {
     "name": "stdout",
     "output_type": "stream",
     "text": [
      "Years of work: [1 2 3 4 5 6]\n",
      "Salary: [3000 3250 3500 3750 4000 4250]\n",
      "Number of Samples: 6\n"
     ]
    }
   ],
   "source": [
    "X1 = np.array([1, 2, 3, 4, 5, 6])\n",
    "Y = np.array([3000, 3250, 3500, 3750, 4000, 4250])\n",
    "m= len(X1)\n",
    "\n",
    "print(f'Years of work: {X1}')\n",
    "print(f'Salary: {Y}')\n",
    "print(f'Number of Samples: {m}')"
   ]
  },
  {
   "cell_type": "code",
   "execution_count": 4,
   "metadata": {},
   "outputs": [
    {
     "name": "stdout",
     "output_type": "stream",
     "text": [
      "[[1]\n",
      " [2]\n",
      " [3]\n",
      " [4]\n",
      " [5]\n",
      " [6]]\n",
      "(6, 1)\n"
     ]
    }
   ],
   "source": [
    "X1=X1.reshape(m, 1)\n",
    "print(X1)\n",
    "print(X1.shape)"
   ]
  },
  {
   "cell_type": "code",
   "execution_count": 5,
   "metadata": {},
   "outputs": [
    {
     "name": "stdout",
     "output_type": "stream",
     "text": [
      "[[1.]\n",
      " [1.]\n",
      " [1.]\n",
      " [1.]\n",
      " [1.]\n",
      " [1.]]\n",
      "(6, 1)\n"
     ]
    }
   ],
   "source": [
    "bias = np.ones((m,1))\n",
    "print(bias)\n",
    "print(bias.shape)"
   ]
  },
  {
   "cell_type": "code",
   "execution_count": 6,
   "metadata": {},
   "outputs": [
    {
     "name": "stdout",
     "output_type": "stream",
     "text": [
      "[[1. 1.]\n",
      " [1. 2.]\n",
      " [1. 3.]\n",
      " [1. 4.]\n",
      " [1. 5.]\n",
      " [1. 6.]]\n",
      "(6, 2)\n"
     ]
    }
   ],
   "source": [
    "X = np.append(bias,X1,axis=1)\n",
    "print(X)\n",
    "print(X.shape)"
   ]
  },
  {
   "cell_type": "markdown",
   "metadata": {},
   "source": [
    "# Normal Equation"
   ]
  },
  {
   "cell_type": "markdown",
   "metadata": {},
   "source": [
    "linear regression in $R^2$:\n",
    "$$ Y=w_0 +w_1X_1 $$\n",
    "$$ Y=W^TX $$\n",
    "where:\n",
    "$$ \\mathbf{W} =\n",
    "\\left[ \\begin{array}{c}\n",
    "w_{0}  \\\\\n",
    "w_{1} \n",
    "\\end{array} \\right] $$\n",
    "\n",
    "$$\\mathbf{X} =\n",
    "\\left[ \\begin{array}{c}\n",
    "1  \\\\\n",
    "X_{1} \n",
    "\\end{array} \\right] $$\n",
    "\n",
    "thereform:\n",
    "$$ W^T=[w_0 \\text{ } w_1]  $$\n",
    "\n",
    "$$ Y=W^T X=[w_0 \\text{ }w_1] \\cdot \\mathbf{X} =\n",
    "\\left[ \\begin{array}{c}\n",
    "1  \\\\\n",
    "X_{1} \n",
    "\\end{array} \\right] =w_0+w_1X1 $$\n",
    "Normal Equation - equation for calculating the minimun loss function\n",
    "$$ W=(X^T X)^{-1}(X^TY)$$"
   ]
  },
  {
   "cell_type": "code",
   "execution_count": 7,
   "metadata": {},
   "outputs": [
    {
     "data": {
      "text/plain": [
       "array([[ 6., 21.],\n",
       "       [21., 91.]])"
      ]
     },
     "execution_count": 7,
     "metadata": {},
     "output_type": "execute_result"
    }
   ],
   "source": [
    "np.dot(X.T, X)"
   ]
  },
  {
   "cell_type": "code",
   "execution_count": 8,
   "metadata": {},
   "outputs": [
    {
     "data": {
      "text/plain": [
       "array([[ 0.86666667, -0.2       ],\n",
       "       [-0.2       ,  0.05714286]])"
      ]
     },
     "execution_count": 8,
     "metadata": {},
     "output_type": "execute_result"
    }
   ],
   "source": [
    "L= np.linalg.inv(np.dot(X.T, X))\n",
    "L"
   ]
  },
  {
   "cell_type": "code",
   "execution_count": 9,
   "metadata": {},
   "outputs": [
    {
     "data": {
      "text/plain": [
       "array([21750., 80500.])"
      ]
     },
     "execution_count": 9,
     "metadata": {},
     "output_type": "execute_result"
    }
   ],
   "source": [
    "R = np.dot(X.T, Y)\n",
    "R"
   ]
  },
  {
   "cell_type": "code",
   "execution_count": 10,
   "metadata": {},
   "outputs": [
    {
     "data": {
      "text/plain": [
       "array([2750.,  250.])"
      ]
     },
     "execution_count": 10,
     "metadata": {},
     "output_type": "execute_result"
    }
   ],
   "source": [
    "np.dot(L, R)"
   ]
  },
  {
   "cell_type": "markdown",
   "metadata": {},
   "source": [
    "Solution of the equation\n",
    "$$ Y=2750+250X_1 $$"
   ]
  },
  {
   "cell_type": "markdown",
   "metadata": {},
   "source": [
    "# Linear regression using a library scikit-learn"
   ]
  },
  {
   "cell_type": "code",
   "execution_count": 11,
   "metadata": {},
   "outputs": [
    {
     "name": "stdout",
     "output_type": "stream",
     "text": [
      "2750.0\n",
      "250.0\n"
     ]
    }
   ],
   "source": [
    "from sklearn.linear_model import LinearRegression\n",
    "\n",
    "regression = LinearRegression()\n",
    "regression.fit(X1, Y)\n",
    "\n",
    "print(regression.intercept_)\n",
    "print(regression.coef_[0])"
   ]
  },
  {
   "cell_type": "code",
   "execution_count": null,
   "metadata": {},
   "outputs": [],
   "source": []
  }
 ],
 "metadata": {
  "kernelspec": {
   "display_name": "Python 3",
   "language": "python",
   "name": "python3"
  },
  "language_info": {
   "codemirror_mode": {
    "name": "ipython",
    "version": 3
   },
   "file_extension": ".py",
   "mimetype": "text/x-python",
   "name": "python",
   "nbconvert_exporter": "python",
   "pygments_lexer": "ipython3",
   "version": "3.7.6"
  }
 },
 "nbformat": 4,
 "nbformat_minor": 4
}
